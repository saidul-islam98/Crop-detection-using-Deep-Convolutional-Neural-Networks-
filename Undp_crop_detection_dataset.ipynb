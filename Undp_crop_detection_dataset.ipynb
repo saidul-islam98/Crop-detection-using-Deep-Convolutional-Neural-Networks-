{
  "nbformat": 4,
  "nbformat_minor": 0,
  "metadata": {
    "colab": {
      "name": "Undp crop detection dataset.ipynb",
      "provenance": [],
      "collapsed_sections": [],
      "toc_visible": true
    },
    "kernelspec": {
      "name": "python3",
      "display_name": "Python 3"
    },
    "accelerator": "GPU"
  },
  "cells": [
    {
      "cell_type": "markdown",
      "metadata": {
        "id": "VpULy33QiL8r",
        "colab_type": "text"
      },
      "source": [
        "## **Mounting Drive and Unzipping the dataset**"
      ]
    },
    {
      "cell_type": "code",
      "metadata": {
        "id": "Rb9by4zca6_6",
        "colab_type": "code",
        "outputId": "1746cf70-35ed-46c5-dab8-bf2691674866",
        "colab": {
          "base_uri": "https://localhost:8080/",
          "height": 122
        }
      },
      "source": [
        "from google.colab import drive\n",
        "drive.mount('/content/drive')"
      ],
      "execution_count": 1,
      "outputs": [
        {
          "output_type": "stream",
          "text": [
            "Go to this URL in a browser: https://accounts.google.com/o/oauth2/auth?client_id=947318989803-6bn6qk8qdgf4n4g3pfee6491hc0brc4i.apps.googleusercontent.com&redirect_uri=urn%3aietf%3awg%3aoauth%3a2.0%3aoob&response_type=code&scope=email%20https%3a%2f%2fwww.googleapis.com%2fauth%2fdocs.test%20https%3a%2f%2fwww.googleapis.com%2fauth%2fdrive%20https%3a%2f%2fwww.googleapis.com%2fauth%2fdrive.photos.readonly%20https%3a%2f%2fwww.googleapis.com%2fauth%2fpeopleapi.readonly\n",
            "\n",
            "Enter your authorization code:\n",
            "··········\n",
            "Mounted at /content/drive\n"
          ],
          "name": "stdout"
        }
      ]
    },
    {
      "cell_type": "code",
      "metadata": {
        "id": "ahyOnmnkdDkz",
        "colab_type": "code",
        "colab": {}
      },
      "source": [
        "!unzip -uq \"/content/drive/My Drive/Colab Notebooks/UNDP crop detection/v2-plant-seedlings-dataset.zip\" -d \"/content/drive/My Drive/Colab Notebooks/UNDP crop detection/plant-seedlings-dataset\""
      ],
      "execution_count": 0,
      "outputs": []
    },
    {
      "cell_type": "markdown",
      "metadata": {
        "id": "Tcvj-zvVkkj_",
        "colab_type": "text"
      },
      "source": [
        "## **Import Libraries**"
      ]
    },
    {
      "cell_type": "code",
      "metadata": {
        "id": "UezGspsCkofG",
        "colab_type": "code",
        "outputId": "55655137-d6e2-4cc9-bf75-5ee68b1935b9",
        "colab": {
          "base_uri": "https://localhost:8080/",
          "height": 71
        }
      },
      "source": [
        "import numpy as np\n",
        "import pandas as pd \n",
        "from keras.preprocessing.image import ImageDataGenerator, load_img\n",
        "from keras.utils import to_categorical\n",
        "from sklearn.model_selection import train_test_split\n",
        "import matplotlib.pyplot as plt\n",
        "import random\n",
        "import os\n",
        "print(os.listdir('/content/drive/My Drive/Colab Notebooks/UNDP crop detection/plant-seedlings-dataset'))"
      ],
      "execution_count": 3,
      "outputs": [
        {
          "output_type": "stream",
          "text": [
            "Using TensorFlow backend.\n"
          ],
          "name": "stderr"
        },
        {
          "output_type": "stream",
          "text": [
            "['Black-grass', 'Charlock', 'Cleavers', 'Common Chickweed', 'Common wheat', 'Fat Hen', 'Loose Silky-bent', 'Maize', 'Scentless Mayweed', 'Small-flowered Cranesbill', 'Sugar beet', 'Shepherds Purse', '.ipynb_checkpoints', 'training', 'testing', 'ShepherdтАЩs Purse', 'nonsegmentedv2']\n"
          ],
          "name": "stdout"
        }
      ]
    },
    {
      "cell_type": "code",
      "metadata": {
        "id": "aw4FeCT-nzmb",
        "colab_type": "code",
        "outputId": "ef8e969c-9156-4d4d-f6e8-56d3ed4e0013",
        "colab": {
          "base_uri": "https://localhost:8080/",
          "height": 71
        }
      },
      "source": [
        "import matplotlib.pyplot as plt\n",
        "import seaborn as sns\n",
        "%matplotlib inline"
      ],
      "execution_count": 4,
      "outputs": [
        {
          "output_type": "stream",
          "text": [
            "/usr/local/lib/python3.6/dist-packages/statsmodels/tools/_testing.py:19: FutureWarning: pandas.util.testing is deprecated. Use the functions in the public API at pandas.testing instead.\n",
            "  import pandas.util.testing as tm\n"
          ],
          "name": "stderr"
        }
      ]
    },
    {
      "cell_type": "code",
      "metadata": {
        "id": "SN9QztxhoWA0",
        "colab_type": "code",
        "colab": {}
      },
      "source": [
        "import tensorflow as tf\n",
        "import shutil\n",
        "from tensorflow.keras.optimizers import RMSprop\n",
        "from shutil import copyfile\n",
        "from os import getcwd"
      ],
      "execution_count": 0,
      "outputs": []
    },
    {
      "cell_type": "code",
      "metadata": {
        "id": "kMfIW94f8kzK",
        "colab_type": "code",
        "colab": {}
      },
      "source": [
        "from keras.models import Sequential\n",
        "from keras.layers import Conv2D, MaxPooling2D, Dropout, Flatten, Dense, Activation, BatchNormalization"
      ],
      "execution_count": 0,
      "outputs": []
    },
    {
      "cell_type": "markdown",
      "metadata": {
        "id": "BxjozSO0mFBw",
        "colab_type": "text"
      },
      "source": [
        "## **Constants Definition**"
      ]
    },
    {
      "cell_type": "code",
      "metadata": {
        "id": "dn6uRGz9mKRc",
        "colab_type": "code",
        "colab": {}
      },
      "source": [
        "FAST_RUN = False\n",
        "IMAGE_WIDTH=128\n",
        "IMAGE_HEIGHT=128\n",
        "IMAGE_SIZE=(IMAGE_WIDTH, IMAGE_HEIGHT)\n",
        "IMAGE_CHANNELS=3"
      ],
      "execution_count": 0,
      "outputs": []
    },
    {
      "cell_type": "markdown",
      "metadata": {
        "id": "jrKA4weGmQvO",
        "colab_type": "text"
      },
      "source": [
        "## **Preparing the training data**"
      ]
    },
    {
      "cell_type": "code",
      "metadata": {
        "id": "YOWhn6fOmO8a",
        "colab_type": "code",
        "colab": {}
      },
      "source": [
        "filenames = os.listdir('/content/drive/My Drive/Colab Notebooks/UNDP crop detection/plant-seedlings-dataset')\n",
        "image_count = []\n",
        "for filename in filenames:\n",
        "    image_count.append(len(os.listdir('/content/drive/My Drive/Colab Notebooks/UNDP crop detection/plant-seedlings-dataset/'+filename))) \n",
        "\n",
        "df = pd.DataFrame({\n",
        "    'filename': filenames,\n",
        "    'image_count': image_count\n",
        "})"
      ],
      "execution_count": 0,
      "outputs": []
    },
    {
      "cell_type": "code",
      "metadata": {
        "id": "P3GAP0FInpWv",
        "colab_type": "code",
        "outputId": "71027eea-f94f-44f1-92da-a4b6b8115e68",
        "colab": {
          "base_uri": "https://localhost:8080/",
          "height": 204
        }
      },
      "source": [
        "df.head()"
      ],
      "execution_count": 7,
      "outputs": [
        {
          "output_type": "execute_result",
          "data": {
            "text/html": [
              "<div>\n",
              "<style scoped>\n",
              "    .dataframe tbody tr th:only-of-type {\n",
              "        vertical-align: middle;\n",
              "    }\n",
              "\n",
              "    .dataframe tbody tr th {\n",
              "        vertical-align: top;\n",
              "    }\n",
              "\n",
              "    .dataframe thead th {\n",
              "        text-align: right;\n",
              "    }\n",
              "</style>\n",
              "<table border=\"1\" class=\"dataframe\">\n",
              "  <thead>\n",
              "    <tr style=\"text-align: right;\">\n",
              "      <th></th>\n",
              "      <th>filename</th>\n",
              "      <th>image_count</th>\n",
              "    </tr>\n",
              "  </thead>\n",
              "  <tbody>\n",
              "    <tr>\n",
              "      <th>0</th>\n",
              "      <td>Black-grass</td>\n",
              "      <td>309</td>\n",
              "    </tr>\n",
              "    <tr>\n",
              "      <th>1</th>\n",
              "      <td>Charlock</td>\n",
              "      <td>452</td>\n",
              "    </tr>\n",
              "    <tr>\n",
              "      <th>2</th>\n",
              "      <td>Cleavers</td>\n",
              "      <td>335</td>\n",
              "    </tr>\n",
              "    <tr>\n",
              "      <th>3</th>\n",
              "      <td>Common Chickweed</td>\n",
              "      <td>713</td>\n",
              "    </tr>\n",
              "    <tr>\n",
              "      <th>4</th>\n",
              "      <td>Common wheat</td>\n",
              "      <td>253</td>\n",
              "    </tr>\n",
              "  </tbody>\n",
              "</table>\n",
              "</div>"
            ],
            "text/plain": [
              "           filename  image_count\n",
              "0       Black-grass          309\n",
              "1          Charlock          452\n",
              "2          Cleavers          335\n",
              "3  Common Chickweed          713\n",
              "4      Common wheat          253"
            ]
          },
          "metadata": {
            "tags": []
          },
          "execution_count": 7
        }
      ]
    },
    {
      "cell_type": "code",
      "metadata": {
        "id": "3jIm4IdInpSY",
        "colab_type": "code",
        "outputId": "2cb5535b-75b6-471d-b4be-ab2eac5b019f",
        "colab": {
          "base_uri": "https://localhost:8080/",
          "height": 349
        }
      },
      "source": [
        "plt.figure(figsize=(25,8))\n",
        "sns.barplot(x='filename', y='image_count', data=df, palette='deep')"
      ],
      "execution_count": 8,
      "outputs": [
        {
          "output_type": "execute_result",
          "data": {
            "text/plain": [
              "<matplotlib.axes._subplots.AxesSubplot at 0x7ff1de7c6f98>"
            ]
          },
          "metadata": {
            "tags": []
          },
          "execution_count": 8
        },
        {
          "output_type": "display_data",
          "data": {
            "image/png": "[encoded data removed]",
            "text/plain": [
              "<Figure size 1800x576 with 1 Axes>"
            ]
          },
          "metadata": {
            "tags": [],
            "needs_background": "light"
          }
        }
      ]
    },
    {
      "cell_type": "markdown",
      "metadata": {
        "id": "_sNbFMerrtWQ",
        "colab_type": "text"
      },
      "source": [
        "## **Creating necessary directories**"
      ]
    },
    {
      "cell_type": "code",
      "metadata": {
        "id": "PXyOIx0dnpNl",
        "colab_type": "code",
        "colab": {}
      },
      "source": [
        "try:\n",
        "    os.mkdir('/content/drive/My Drive/Colab Notebooks/UNDP crop detection/plant-seedlings-dataset/training')\n",
        "    os.mkdir('/content/drive/My Drive/Colab Notebooks/UNDP crop detection/plant-seedlings-dataset/testing')\n",
        "    os.mkdir('/content/drive/My Drive/Colab Notebooks/UNDP crop detection/plant-seedlings-dataset/training/Black-grass')\n",
        "    os.mkdir('/content/drive/My Drive/Colab Notebooks/UNDP crop detection/plant-seedlings-dataset/training/Charlock')\n",
        "    os.mkdir('/content/drive/My Drive/Colab Notebooks/UNDP crop detection/plant-seedlings-dataset/training/Cleavers')\n",
        "    os.mkdir('/content/drive/My Drive/Colab Notebooks/UNDP crop detection/plant-seedlings-dataset/training/Common Chickweed')\n",
        "    os.mkdir('/content/drive/My Drive/Colab Notebooks/UNDP crop detection/plant-seedlings-dataset/training/Common wheat')\n",
        "    os.mkdir('/content/drive/My Drive/Colab Notebooks/UNDP crop detection/plant-seedlings-dataset/training/Fat Hen')\n",
        "    os.mkdir('/content/drive/My Drive/Colab Notebooks/UNDP crop detection/plant-seedlings-dataset/training/Loose Silky-bent')\n",
        "    os.mkdir('/content/drive/My Drive/Colab Notebooks/UNDP crop detection/plant-seedlings-dataset/training/Maize')\n",
        "    os.mkdir('/content/drive/My Drive/Colab Notebooks/UNDP crop detection/plant-seedlings-dataset/training/Scentless Mayweed')\n",
        "    os.mkdir('/content/drive/My Drive/Colab Notebooks/UNDP crop detection/plant-seedlings-dataset/training/Shepherds Purse')\n",
        "    os.mkdir('/content/drive/My Drive/Colab Notebooks/UNDP crop detection/plant-seedlings-dataset/training/Small-flowered Cranesbill')\n",
        "    os.mkdir('/content/drive/My Drive/Colab Notebooks/UNDP crop detection/plant-seedlings-dataset/training/Sugar beet')\n",
        "    \n",
        "    print(\"Training directories created\")\n",
        "    print(\"\")\n",
        "\n",
        "    os.mkdir('/content/drive/My Drive/Colab Notebooks/UNDP crop detection/plant-seedlings-dataset/testing/Black-grass')\n",
        "    os.mkdir('/content/drive/My Drive/Colab Notebooks/UNDP crop detection/plant-seedlings-dataset/testing/Charlock')\n",
        "    os.mkdir('/content/drive/My Drive/Colab Notebooks/UNDP crop detection/plant-seedlings-dataset/testing/Cleavers')\n",
        "    os.mkdir('/content/drive/My Drive/Colab Notebooks/UNDP crop detection/plant-seedlings-dataset/testing/Common Chickweed')\n",
        "    os.mkdir('/content/drive/My Drive/Colab Notebooks/UNDP crop detection/plant-seedlings-dataset/testing/Common wheat')\n",
        "    os.mkdir('/content/drive/My Drive/Colab Notebooks/UNDP crop detection/plant-seedlings-dataset/testing/Fat Hen')\n",
        "    os.mkdir('/content/drive/My Drive/Colab Notebooks/UNDP crop detection/plant-seedlings-dataset/testing/Loose Silky-bent')\n",
        "    os.mkdir('/content/drive/My Drive/Colab Notebooks/UNDP crop detection/plant-seedlings-dataset/testing/Maize')\n",
        "    os.mkdir('/content/drive/My Drive/Colab Notebooks/UNDP crop detection/plant-seedlings-dataset/testing/Scentless Mayweed')\n",
        "    os.mkdir('/content/drive/My Drive/Colab Notebooks/UNDP crop detection/plant-seedlings-dataset/testing/Shepherds Purse')\n",
        "    os.mkdir('/content/drive/My Drive/Colab Notebooks/UNDP crop detection/plant-seedlings-dataset/testing/Small-flowered Cranesbill')\n",
        "    os.mkdir('/content/drive/My Drive/Colab Notebooks/UNDP crop detection/plant-seedlings-dataset/testing/Sugar beet')\n",
        "\n",
        "    print(\"Testing directories created\")\n",
        "except OSError:\n",
        "    pass"
      ],
      "execution_count": 0,
      "outputs": []
    },
    {
      "cell_type": "markdown",
      "metadata": {
        "id": "qcdG2Rx6u20t",
        "colab_type": "text"
      },
      "source": [
        "#### **Train-test dataset Split function**"
      ]
    },
    {
      "cell_type": "code",
      "metadata": {
        "id": "AG1bPBEbnpID",
        "colab_type": "code",
        "colab": {}
      },
      "source": [
        "def split_data(SOURCE, TRAINING, TESTING, SPLIT_SIZE):\n",
        "    dataset = []\n",
        "    \n",
        "    for unitData in os.listdir(SOURCE):\n",
        "        data = SOURCE + unitData\n",
        "        if(os.path.getsize(data) > 0):\n",
        "            dataset.append(unitData)\n",
        "        else:\n",
        "            print('Skipped ' + unitData)\n",
        "            print('Invalid file i.e zero size')\n",
        "    \n",
        "    train_set_length = int(len(dataset) * SPLIT_SIZE)\n",
        "    test_set_length = int(len(dataset) - train_set_length)\n",
        "    shuffled_set = random.sample(dataset, len(dataset))\n",
        "    train_set = dataset[0:train_set_length]\n",
        "    test_set = dataset[-test_set_length:]\n",
        "       \n",
        "    for unitData in train_set:\n",
        "        temp_train_set = SOURCE + unitData\n",
        "        final_train_set = TRAINING + unitData\n",
        "        copyfile(temp_train_set, final_train_set)\n",
        "    \n",
        "    for unitData in test_set:\n",
        "        temp_test_set = SOURCE + unitData\n",
        "        final_test_set = TESTING + unitData\n",
        "        copyfile(temp_test_set, final_test_set)"
      ],
      "execution_count": 0,
      "outputs": []
    },
    {
      "cell_type": "markdown",
      "metadata": {
        "id": "mRTODhNQ0T0B",
        "colab_type": "text"
      },
      "source": [
        "Directory assignment to variables:"
      ]
    },
    {
      "cell_type": "code",
      "metadata": {
        "id": "bl2LbkxknpAV",
        "colab_type": "code",
        "colab": {}
      },
      "source": [
        "#**************************Black_grass*****************************\n",
        "BLACK_GRASS_SOURCE_DIR = '/content/drive/My Drive/Colab Notebooks/UNDP crop detection/plant-seedlings-dataset/Black-grass/'\n",
        "TRAINING_BLACK_GRASS_DIR = '/content/drive/My Drive/Colab Notebooks/UNDP crop detection/plant-seedlings-dataset/training/Black-grass/'\n",
        "TESTING_BLACK_GRASS_DIR = '/content/drive/My Drive/Colab Notebooks/UNDP crop detection/plant-seedlings-dataset/testing/Black-grass/'\n",
        "\n",
        "#**************************Charlock*****************************\n",
        "CHARLOCK_SOURCE_DIR = '/content/drive/My Drive/Colab Notebooks/UNDP crop detection/plant-seedlings-dataset/Charlock/'\n",
        "TRAINING_CHARLOCK_DIR = '/content/drive/My Drive/Colab Notebooks/UNDP crop detection/plant-seedlings-dataset/training/Charlock/'\n",
        "TESTING_CHARLOCK_DIR = '/content/drive/My Drive/Colab Notebooks/UNDP crop detection/plant-seedlings-dataset/testing/Charlock/'\n",
        "\n",
        "#**************************Cleavers*****************************\n",
        "CLEAVERS_SOURCE_DIR = '/content/drive/My Drive/Colab Notebooks/UNDP crop detection/plant-seedlings-dataset/Cleavers/'\n",
        "TRAINING_CLEAVERS_DIR = '/content/drive/My Drive/Colab Notebooks/UNDP crop detection/plant-seedlings-dataset/training/Cleavers/'\n",
        "TESTING_CLEAVERS_DIR = '/content/drive/My Drive/Colab Notebooks/UNDP crop detection/plant-seedlings-dataset/testing/Cleavers/'\n",
        "\n",
        "#**************************Common Chickweed*****************************\n",
        "COMMON_CHICKWEED_SOURCE_DIR = '/content/drive/My Drive/Colab Notebooks/UNDP crop detection/plant-seedlings-dataset/Common Chickweed/'\n",
        "TRAINING_COMMON_CHICKWEED_DIR = '/content/drive/My Drive/Colab Notebooks/UNDP crop detection/plant-seedlings-dataset/training/Common Chickweed/'\n",
        "TESTING_COMMON_CHICKWEED_DIR = '/content/drive/My Drive/Colab Notebooks/UNDP crop detection/plant-seedlings-dataset/testing/Common Chickweed/'\n",
        "\n",
        "#**************************Common Wheat*****************************\n",
        "COMMON_WHEAT_SOURCE_DIR = '/content/drive/My Drive/Colab Notebooks/UNDP crop detection/plant-seedlings-dataset/Common wheat/'\n",
        "TRAINING_COMMON_WHEAT_DIR = '/content/drive/My Drive/Colab Notebooks/UNDP crop detection/plant-seedlings-dataset/training/Common wheat/'\n",
        "TESTING_COMMON_WHEAT_DIR = '/content/drive/My Drive/Colab Notebooks/UNDP crop detection/plant-seedlings-dataset/testing/Common wheat/'\n",
        "\n",
        "#**************************Fat Hen*****************************\n",
        "FAT_HEN_SOURCE_DIR = '/content/drive/My Drive/Colab Notebooks/UNDP crop detection/plant-seedlings-dataset/Fat Hen/'\n",
        "TRAINING_FAT_HEN_DIR = '/content/drive/My Drive/Colab Notebooks/UNDP crop detection/plant-seedlings-dataset/training/Fat Hen/'\n",
        "TESTING_FAT_HEN_DIR = '/content/drive/My Drive/Colab Notebooks/UNDP crop detection/plant-seedlings-dataset/testing/Fat Hen/'\n",
        "\n",
        "#**************************Loose Silky-bent*****************************\n",
        "LOOSE_SILKY_BENT_SOURCE_DIR = '/content/drive/My Drive/Colab Notebooks/UNDP crop detection/plant-seedlings-dataset/Loose Silky-bent/'\n",
        "TRAINING_LOOSE_SILKY_BENT_DIR = '/content/drive/My Drive/Colab Notebooks/UNDP crop detection/plant-seedlings-dataset/training/Loose Silky-bent/'\n",
        "TESTING_LOOSE_SILKY_BENT_DIR = '/content/drive/My Drive/Colab Notebooks/UNDP crop detection/plant-seedlings-dataset/testing/Loose Silky-bent/'\n",
        "\n",
        "#**************************Maize*****************************\n",
        "MAIZE_SOURCE_DIR = '/content/drive/My Drive/Colab Notebooks/UNDP crop detection/plant-seedlings-dataset/Maize/'\n",
        "TRAINING_MAIZE_DIR = '/content/drive/My Drive/Colab Notebooks/UNDP crop detection/plant-seedlings-dataset/training/Maize/'\n",
        "TESTING_MAIZE_DIR = '/content/drive/My Drive/Colab Notebooks/UNDP crop detection/plant-seedlings-dataset/testing/Maize/'\n",
        "\n",
        "#**************************Scentless Mayweed*****************************\n",
        "SCENTLESS_MAYWEED_SOURCE_DIR = '/content/drive/My Drive/Colab Notebooks/UNDP crop detection/plant-seedlings-dataset/Scentless Mayweed/'\n",
        "TRAINING_SCENTLESS_MAYWEED_DIR = '/content/drive/My Drive/Colab Notebooks/UNDP crop detection/plant-seedlings-dataset/training/Scentless Mayweed/'\n",
        "TESTING_SCENTLESS_MAYWEED_DIR = '/content/drive/My Drive/Colab Notebooks/UNDP crop detection/plant-seedlings-dataset/testing/Scentless Mayweed/'\n",
        "\n",
        "#**************************Shepherds Purse*****************************\n",
        "SHEPHERDS_PURSE_SOURCE_DIR = '/content/drive/My Drive/Colab Notebooks/UNDP crop detection/plant-seedlings-dataset/Shepherds Purse/'\n",
        "TRAINING_SHEPHERDS_PURSE_DIR = '/content/drive/My Drive/Colab Notebooks/UNDP crop detection/plant-seedlings-dataset/training/Shepherds Purse/'\n",
        "TESTING_SHEPHERDS_PURSE_DIR = '/content/drive/My Drive/Colab Notebooks/UNDP crop detection/plant-seedlings-dataset/testing/Shepherds Purse/'\n",
        "\n",
        "#**************************Small Flowered Cranesbill*****************************\n",
        "SMALL_FLOWERED_CRANESBILL_SOURCE_DIR = '/content/drive/My Drive/Colab Notebooks/UNDP crop detection/plant-seedlings-dataset/Small-flowered Cranesbill/'\n",
        "TRAINING_SMALL_FLOWERED_CRANESBILL_DIR = '/content/drive/My Drive/Colab Notebooks/UNDP crop detection/plant-seedlings-dataset/training/Small-flowered Cranesbill/'\n",
        "TESTING_SMALL_FLOWERED_CRANESBILL_DIR = '/content/drive/My Drive/Colab Notebooks/UNDP crop detection/plant-seedlings-dataset/testing/Small-flowered Cranesbill/'\n",
        "\n",
        "#**************************Sugar Beet*****************************\n",
        "SUGAR_BEET_SOURCE_DIR = '/content/drive/My Drive/Colab Notebooks/UNDP crop detection/plant-seedlings-dataset/Sugar beet/'\n",
        "TRAINING_SUGAR_BEET_DIR = '/content/drive/My Drive/Colab Notebooks/UNDP crop detection/plant-seedlings-dataset/training/Sugar beet/'\n",
        "TESTING_SUGAR_BEET_DIR = '/content/drive/My Drive/Colab Notebooks/UNDP crop detection/plant-seedlings-dataset/testing/Sugar beet/'\n"
      ],
      "execution_count": 0,
      "outputs": []
    },
    {
      "cell_type": "code",
      "metadata": {
        "id": "B6VlohFMnoza",
        "colab_type": "code",
        "colab": {}
      },
      "source": [
        "split_size = .7\n",
        "\n",
        "split_data(BLACK_GRASS_SOURCE_DIR, TRAINING_BLACK_GRASS_DIR, TESTING_BLACK_GRASS_DIR, split_size)\n",
        "\n",
        "split_data(CHARLOCK_SOURCE_DIR, TRAINING_CHARLOCK_DIR, TESTING_CHARLOCK_DIR, split_size)\n",
        "\n",
        "split_data(CLEAVERS_SOURCE_DIR, TRAINING_CLEAVERS_DIR, TESTING_CLEAVERS_DIR, split_size)\n",
        "\n",
        "split_data(COMMON_CHICKWEED_SOURCE_DIR, TRAINING_COMMON_CHICKWEED_DIR, TESTING_COMMON_CHICKWEED_DIR, split_size)\n",
        "\n",
        "split_data(COMMON_WHEAT_SOURCE_DIR, TRAINING_COMMON_WHEAT_DIR, TESTING_COMMON_WHEAT_DIR, split_size)\n",
        "\n",
        "split_data(FAT_HEN_SOURCE_DIR, TRAINING_FAT_HEN_DIR, TESTING_FAT_HEN_DIR, split_size)\n",
        "\n",
        "split_data(LOOSE_SILKY_BENT_SOURCE_DIR, TRAINING_LOOSE_SILKY_BENT_DIR, TESTING_LOOSE_SILKY_BENT_DIR, split_size)\n",
        "\n",
        "split_data(MAIZE_SOURCE_DIR, TRAINING_MAIZE_DIR, TESTING_MAIZE_DIR, split_size)\n",
        "\n",
        "split_data(SCENTLESS_MAYWEED_SOURCE_DIR, TRAINING_SCENTLESS_MAYWEED_DIR, TESTING_SCENTLESS_MAYWEED_DIR, split_size)\n",
        "\n",
        "split_data(SHEPHERDS_PURSE_SOURCE_DIR, TRAINING_SHEPHERDS_PURSE_DIR, TESTING_SHEPHERDS_PURSE_DIR, split_size)\n",
        "\n",
        "split_data(SMALL_FLOWERED_CRANESBILL_SOURCE_DIR, TRAINING_SMALL_FLOWERED_CRANESBILL_DIR, TESTING_SMALL_FLOWERED_CRANESBILL_DIR, split_size)\n",
        "\n",
        "split_data(SUGAR_BEET_SOURCE_DIR, TRAINING_SUGAR_BEET_DIR, TESTING_SUGAR_BEET_DIR, split_size)\n"
      ],
      "execution_count": 0,
      "outputs": []
    },
    {
      "cell_type": "code",
      "metadata": {
        "id": "0h-cpdfi3Lru",
        "colab_type": "code",
        "colab": {
          "base_uri": "https://localhost:8080/",
          "height": 221
        },
        "outputId": "56b4efa0-d781-45c1-bd06-a04b614ce3a1"
      },
      "source": [
        "print(\"Black-grass: training ==> \" + str(len(os.listdir(TRAINING_BLACK_GRASS_DIR))) + \" testing ==> \" + str(len(os.listdir(TESTING_BLACK_GRASS_DIR))))\n",
        "print(\"Charlock: training ==> \" + str(len(os.listdir(TRAINING_CHARLOCK_DIR))) + \" testing ==> \" + str(len(os.listdir(TESTING_CHARLOCK_DIR))))\n",
        "print(\"Cleavers: training ==> \" + str(len(os.listdir(TRAINING_CLEAVERS_DIR))) + \" testing ==> \" + str(len(os.listdir(TESTING_CLEAVERS_DIR))))\n",
        "print(\"Common Chickweed: training ==> \" + str(len(os.listdir(TRAINING_COMMON_CHICKWEED_DIR))) + \" testing ==> \" + str(len(os.listdir(TESTING_COMMON_CHICKWEED_DIR))))\n",
        "print(\"Common wheat: training ==> \" + str(len(os.listdir(TRAINING_COMMON_WHEAT_DIR))) + \" testing ==> \" + str(len(os.listdir(TESTING_COMMON_WHEAT_DIR))))\n",
        "print(\"Fat Hen: training ==> \" + str(len(os.listdir(TRAINING_FAT_HEN_DIR))) + \" testing ==> \" + str(len(os.listdir(TESTING_FAT_HEN_DIR))))\n",
        "print(\"Loose Silky-bent: training ==> \" + str(len(os.listdir(TRAINING_LOOSE_SILKY_BENT_DIR))) + \" testing ==> \" + str(len(os.listdir(TESTING_LOOSE_SILKY_BENT_DIR))))\n",
        "print(\"Maize: training ==> \" + str(len(os.listdir(TRAINING_MAIZE_DIR))) + \" testing ==> \" + str(len(os.listdir(TESTING_MAIZE_DIR))))\n",
        "print(\"Scentless Mayweed: training ==> \" + str(len(os.listdir(TRAINING_SCENTLESS_MAYWEED_DIR))) + \" testing ==> \" + str(len(os.listdir(TESTING_SCENTLESS_MAYWEED_DIR))))\n",
        "print(\"Shepherds Purse: training ==> \" + str(len(os.listdir(TRAINING_SHEPHERDS_PURSE_DIR))) + \" testing ==> \" + str(len(os.listdir(TESTING_SHEPHERDS_PURSE_DIR))))\n",
        "print(\"Small-flowered Cranesbill: training ==> \" + str(len(os.listdir(TRAINING_SMALL_FLOWERED_CRANESBILL_DIR))) + \" testing ==> \" + str(len(os.listdir(TESTING_SMALL_FLOWERED_CRANESBILL_DIR))))\n",
        "print(\"Sugar beet: training ==> \" + str(len(os.listdir(TRAINING_SUGAR_BEET_DIR))) + \" testing ==> \" + str(len(os.listdir(TESTING_SUGAR_BEET_DIR))))"
      ],
      "execution_count": 16,
      "outputs": [
        {
          "output_type": "stream",
          "text": [
            "Black-grass: training ==> 216 testing ==> 93\n",
            "Charlock: training ==> 316 testing ==> 136\n",
            "Cleavers: training ==> 234 testing ==> 101\n",
            "Common Chickweed: training ==> 499 testing ==> 214\n",
            "Common wheat: training ==> 177 testing ==> 76\n",
            "Fat Hen: training ==> 376 testing ==> 162\n",
            "Loose Silky-bent: training ==> 533 testing ==> 229\n",
            "Maize: training ==> 179 testing ==> 78\n",
            "Scentless Mayweed: training ==> 424 testing ==> 183\n",
            "Shepherds Purse: training ==> 191 testing ==> 83\n",
            "Small-flowered Cranesbill: training ==> 403 testing ==> 173\n",
            "Sugar beet: training ==> 324 testing ==> 139\n"
          ],
          "name": "stdout"
        }
      ]
    },
    {
      "cell_type": "markdown",
      "metadata": {
        "id": "DBeMWOJtiaf_",
        "colab_type": "text"
      },
      "source": [
        "## **Train Generator and Validation Generator**"
      ]
    },
    {
      "cell_type": "code",
      "metadata": {
        "id": "KScKLE1Bif-1",
        "colab_type": "code",
        "colab": {
          "base_uri": "https://localhost:8080/",
          "height": 51
        },
        "outputId": "c283b97f-bd7f-4196-cfd2-53444b4f7782"
      },
      "source": [
        "train_dir = '/content/drive/My Drive/Colab Notebooks/UNDP crop detection/plant-seedlings-dataset/training'\n",
        "\n",
        "train_datagen = ImageDataGenerator(rescale=1.0/255,\n",
        "                                   rotation_range=40,\n",
        "                                   width_shift_range=0.2,\n",
        "                                   height_shift_range=0.2,\n",
        "                                   shear_range=0.2,\n",
        "                                   zoom_range=0.2,\n",
        "                                   horizontal_flip=True,\n",
        "                                   fill_mode='nearest')\n",
        "\n",
        "train_generator = train_datagen.flow_from_directory(train_dir, \n",
        "                                                    batch_size=10, \n",
        "                                                    class_mode='categorical', \n",
        "                                                    target_size=IMAGE_SIZE)\n",
        "\n",
        "\n",
        "validation_dir = '/content/drive/My Drive/Colab Notebooks/UNDP crop detection/plant-seedlings-dataset/testing'\n",
        "validation_datagen = ImageDataGenerator(rescale=1./255)\n",
        "\n",
        "validation_generator = validation_datagen.flow_from_directory(validation_dir, \n",
        "                                                         batch_size=10, \n",
        "                                                         class_mode='categorical', \n",
        "                                                         target_size=IMAGE_SIZE)\n",
        "\n",
        "\n"
      ],
      "execution_count": 17,
      "outputs": [
        {
          "output_type": "stream",
          "text": [
            "Found 3872 images belonging to 12 classes.\n",
            "Found 1667 images belonging to 12 classes.\n"
          ],
          "name": "stdout"
        }
      ]
    },
    {
      "cell_type": "markdown",
      "metadata": {
        "id": "N0fKaeec8WUQ",
        "colab_type": "text"
      },
      "source": [
        "## **Model Generation**"
      ]
    },
    {
      "cell_type": "code",
      "metadata": {
        "id": "GUe7UoaZ8K5Z",
        "colab_type": "code",
        "colab": {
          "base_uri": "https://localhost:8080/",
          "height": 731
        },
        "outputId": "cb948dcc-a131-46d8-8c97-d2739274beaf"
      },
      "source": [
        "model = Sequential()\n",
        "\n",
        "model.add(Conv2D(32, (3, 3), activation='relu', input_shape=(IMAGE_WIDTH, IMAGE_HEIGHT, IMAGE_CHANNELS)))\n",
        "model.add(BatchNormalization())\n",
        "model.add(MaxPooling2D(pool_size=(2, 2)))\n",
        "model.add(Dropout(0.25))\n",
        "\n",
        "model.add(Conv2D(64, (3, 3), activation='relu'))\n",
        "model.add(BatchNormalization())\n",
        "model.add(MaxPooling2D(pool_size=(2, 2)))\n",
        "model.add(Dropout(0.25))\n",
        "\n",
        "model.add(Conv2D(128, (3, 3), activation='relu'))\n",
        "model.add(BatchNormalization())\n",
        "model.add(MaxPooling2D(pool_size=(2, 2)))\n",
        "model.add(Dropout(0.25))\n",
        "\n",
        "model.add(Flatten())\n",
        "model.add(Dense(512, activation='relu'))\n",
        "model.add(BatchNormalization())\n",
        "\n",
        "model.add(Dropout(0.5))\n",
        "model.add(Dense(12, activation='softmax'))\n",
        "\n",
        "model.compile(loss='categorical_crossentropy', optimizer='rmsprop', metrics=['accuracy'])\n",
        "\n",
        "model.summary()"
      ],
      "execution_count": 19,
      "outputs": [
        {
          "output_type": "stream",
          "text": [
            "Model: \"sequential_1\"\n",
            "_________________________________________________________________\n",
            "Layer (type)                 Output Shape              Param #   \n",
            "=================================================================\n",
            "conv2d_1 (Conv2D)            (None, 126, 126, 32)      896       \n",
            "_________________________________________________________________\n",
            "batch_normalization_1 (Batch (None, 126, 126, 32)      128       \n",
            "_________________________________________________________________\n",
            "max_pooling2d_1 (MaxPooling2 (None, 63, 63, 32)        0         \n",
            "_________________________________________________________________\n",
            "dropout_1 (Dropout)          (None, 63, 63, 32)        0         \n",
            "_________________________________________________________________\n",
            "conv2d_2 (Conv2D)            (None, 61, 61, 64)        18496     \n",
            "_________________________________________________________________\n",
            "batch_normalization_2 (Batch (None, 61, 61, 64)        256       \n",
            "_________________________________________________________________\n",
            "max_pooling2d_2 (MaxPooling2 (None, 30, 30, 64)        0         \n",
            "_________________________________________________________________\n",
            "dropout_2 (Dropout)          (None, 30, 30, 64)        0         \n",
            "_________________________________________________________________\n",
            "conv2d_3 (Conv2D)            (None, 28, 28, 128)       73856     \n",
            "_________________________________________________________________\n",
            "batch_normalization_3 (Batch (None, 28, 28, 128)       512       \n",
            "_________________________________________________________________\n",
            "max_pooling2d_3 (MaxPooling2 (None, 14, 14, 128)       0         \n",
            "_________________________________________________________________\n",
            "dropout_3 (Dropout)          (None, 14, 14, 128)       0         \n",
            "_________________________________________________________________\n",
            "flatten_1 (Flatten)          (None, 25088)             0         \n",
            "_________________________________________________________________\n",
            "dense_1 (Dense)              (None, 512)               12845568  \n",
            "_________________________________________________________________\n",
            "batch_normalization_4 (Batch (None, 512)               2048      \n",
            "_________________________________________________________________\n",
            "dropout_4 (Dropout)          (None, 512)               0         \n",
            "_________________________________________________________________\n",
            "dense_2 (Dense)              (None, 12)                6156      \n",
            "=================================================================\n",
            "Total params: 12,947,916\n",
            "Trainable params: 12,946,444\n",
            "Non-trainable params: 1,472\n",
            "_________________________________________________________________\n"
          ],
          "name": "stdout"
        }
      ]
    },
    {
      "cell_type": "markdown",
      "metadata": {
        "id": "dyTy3Zs2-RBT",
        "colab_type": "text"
      },
      "source": [
        "### **Callbacks**"
      ]
    },
    {
      "cell_type": "code",
      "metadata": {
        "id": "3jv-GRCl8K3D",
        "colab_type": "code",
        "colab": {}
      },
      "source": [
        "from keras.callbacks import EarlyStopping, ReduceLROnPlateau\n",
        "\n",
        "earlystop = EarlyStopping(patience=10)"
      ],
      "execution_count": 0,
      "outputs": []
    },
    {
      "cell_type": "code",
      "metadata": {
        "id": "R-WE7zQ-8K0C",
        "colab_type": "code",
        "colab": {}
      },
      "source": [
        "learning_rate_reduction = ReduceLROnPlateau(monitor='val_acc', \n",
        "                                            patience=2, \n",
        "                                            verbose=1, \n",
        "                                            factor=0.5, \n",
        "                                            min_lr=0.00001)"
      ],
      "execution_count": 0,
      "outputs": []
    },
    {
      "cell_type": "code",
      "metadata": {
        "id": "p9hpG5Nl8KyU",
        "colab_type": "code",
        "colab": {}
      },
      "source": [
        "callbacks = [earlystop, learning_rate_reduction]"
      ],
      "execution_count": 0,
      "outputs": []
    },
    {
      "cell_type": "code",
      "metadata": {
        "id": "NFB-df7T_ayr",
        "colab_type": "code",
        "colab": {}
      },
      "source": [
        "total_train = 3872\n",
        "total_validate = 1667\n",
        "batch_size = 10"
      ],
      "execution_count": 0,
      "outputs": []
    },
    {
      "cell_type": "markdown",
      "metadata": {
        "id": "MSWiOVVd-lxr",
        "colab_type": "text"
      },
      "source": [
        "## **Model Implementation**"
      ]
    },
    {
      "cell_type": "code",
      "metadata": {
        "id": "2sutdSBj8KvR",
        "colab_type": "code",
        "colab": {
          "base_uri": "https://localhost:8080/",
          "height": 1000
        },
        "outputId": "80b06712-dbad-4263-fc86-312104c8d4a5"
      },
      "source": [
        "epochs=3 if FAST_RUN else 50\n",
        "\n",
        "history = model.fit_generator(\n",
        "    train_generator, \n",
        "    epochs=epochs,\n",
        "    validation_data=validation_generator,\n",
        "    validation_steps=total_validate//batch_size,\n",
        "    steps_per_epoch=total_train//batch_size,\n",
        "    callbacks=callbacks\n",
        ")"
      ],
      "execution_count": 25,
      "outputs": [
        {
          "output_type": "stream",
          "text": [
            "Epoch 1/50\n",
            "387/387 [==============================] - 77s 198ms/step - loss: 2.6131 - accuracy: 0.2872 - val_loss: 4.0636 - val_accuracy: 0.1530\n",
            "Epoch 2/50\n",
            "  2/387 [..............................] - ETA: 31s - loss: 1.7719 - accuracy: 0.5000"
          ],
          "name": "stdout"
        },
        {
          "output_type": "stream",
          "text": [
            "/usr/local/lib/python3.6/dist-packages/keras/callbacks/callbacks.py:1042: RuntimeWarning: Reduce LR on plateau conditioned on metric `val_acc` which is not available. Available metrics are: val_loss,val_accuracy,loss,accuracy,lr\n",
            "  (self.monitor, ','.join(list(logs.keys()))), RuntimeWarning\n"
          ],
          "name": "stderr"
        },
        {
          "output_type": "stream",
          "text": [
            "387/387 [==============================] - 67s 173ms/step - loss: 1.9022 - accuracy: 0.4194 - val_loss: 4.8128 - val_accuracy: 0.3319\n",
            "Epoch 3/50\n",
            "387/387 [==============================] - 67s 173ms/step - loss: 1.5599 - accuracy: 0.5093 - val_loss: 1.4840 - val_accuracy: 0.5963\n",
            "Epoch 4/50\n",
            "387/387 [==============================] - 67s 172ms/step - loss: 1.3279 - accuracy: 0.5642 - val_loss: 2.2785 - val_accuracy: 0.5069\n",
            "Epoch 5/50\n",
            "387/387 [==============================] - 67s 173ms/step - loss: 1.1544 - accuracy: 0.6207 - val_loss: 4.9910 - val_accuracy: 0.2818\n",
            "Epoch 6/50\n",
            "387/387 [==============================] - 67s 173ms/step - loss: 1.0402 - accuracy: 0.6554 - val_loss: 1.2530 - val_accuracy: 0.6325\n",
            "Epoch 7/50\n",
            "387/387 [==============================] - 66s 171ms/step - loss: 0.9707 - accuracy: 0.6872 - val_loss: 1.7583 - val_accuracy: 0.5468\n",
            "Epoch 8/50\n",
            "387/387 [==============================] - 66s 170ms/step - loss: 0.9053 - accuracy: 0.7012 - val_loss: 1.4339 - val_accuracy: 0.6343\n",
            "Epoch 9/50\n",
            "387/387 [==============================] - 66s 171ms/step - loss: 0.8760 - accuracy: 0.7139 - val_loss: 0.5699 - val_accuracy: 0.7664\n",
            "Epoch 10/50\n",
            "387/387 [==============================] - 66s 171ms/step - loss: 0.8078 - accuracy: 0.7328 - val_loss: 0.7860 - val_accuracy: 0.7761\n",
            "Epoch 11/50\n",
            "387/387 [==============================] - 66s 171ms/step - loss: 0.7967 - accuracy: 0.7351 - val_loss: 1.0201 - val_accuracy: 0.6053\n",
            "Epoch 12/50\n",
            "387/387 [==============================] - 66s 170ms/step - loss: 0.7772 - accuracy: 0.7421 - val_loss: 1.5128 - val_accuracy: 0.5745\n",
            "Epoch 13/50\n",
            "387/387 [==============================] - 65s 169ms/step - loss: 0.7628 - accuracy: 0.7481 - val_loss: 0.3031 - val_accuracy: 0.7266\n",
            "Epoch 14/50\n",
            "387/387 [==============================] - 64s 166ms/step - loss: 0.7110 - accuracy: 0.7623 - val_loss: 0.9206 - val_accuracy: 0.7990\n",
            "Epoch 15/50\n",
            "387/387 [==============================] - 65s 167ms/step - loss: 0.7058 - accuracy: 0.7623 - val_loss: 1.7066 - val_accuracy: 0.4140\n",
            "Epoch 16/50\n",
            "387/387 [==============================] - 64s 165ms/step - loss: 0.7082 - accuracy: 0.7672 - val_loss: 0.4465 - val_accuracy: 0.7695\n",
            "Epoch 17/50\n",
            "387/387 [==============================] - 64s 165ms/step - loss: 0.6606 - accuracy: 0.7841 - val_loss: 0.8216 - val_accuracy: 0.6053\n",
            "Epoch 18/50\n",
            "387/387 [==============================] - 64s 164ms/step - loss: 0.6744 - accuracy: 0.7768 - val_loss: 0.2860 - val_accuracy: 0.8521\n",
            "Epoch 19/50\n",
            "387/387 [==============================] - 64s 165ms/step - loss: 0.6392 - accuracy: 0.7879 - val_loss: 3.7658 - val_accuracy: 0.3518\n",
            "Epoch 20/50\n",
            "387/387 [==============================] - 64s 166ms/step - loss: 0.6312 - accuracy: 0.7888 - val_loss: 1.9781 - val_accuracy: 0.5359\n",
            "Epoch 21/50\n",
            "387/387 [==============================] - 63s 164ms/step - loss: 0.6215 - accuracy: 0.7931 - val_loss: 1.8426 - val_accuracy: 0.5661\n",
            "Epoch 22/50\n",
            "387/387 [==============================] - 64s 164ms/step - loss: 0.6041 - accuracy: 0.8045 - val_loss: 0.5950 - val_accuracy: 0.8189\n",
            "Epoch 23/50\n",
            "387/387 [==============================] - 63s 163ms/step - loss: 0.6325 - accuracy: 0.7882 - val_loss: 1.4493 - val_accuracy: 0.5540\n",
            "Epoch 24/50\n",
            "387/387 [==============================] - 67s 172ms/step - loss: 0.5978 - accuracy: 0.7952 - val_loss: 0.6505 - val_accuracy: 0.7725\n",
            "Epoch 25/50\n",
            "387/387 [==============================] - 69s 178ms/step - loss: 0.5787 - accuracy: 0.8009 - val_loss: 1.2666 - val_accuracy: 0.7526\n",
            "Epoch 26/50\n",
            "387/387 [==============================] - 68s 175ms/step - loss: 0.5828 - accuracy: 0.8068 - val_loss: 0.2281 - val_accuracy: 0.7785\n",
            "Epoch 27/50\n",
            "387/387 [==============================] - 66s 171ms/step - loss: 0.5579 - accuracy: 0.8084 - val_loss: 5.1892 - val_accuracy: 0.5088\n",
            "Epoch 28/50\n",
            "387/387 [==============================] - 66s 170ms/step - loss: 0.5591 - accuracy: 0.8156 - val_loss: 0.3811 - val_accuracy: 0.7888\n",
            "Epoch 29/50\n",
            "387/387 [==============================] - 66s 170ms/step - loss: 0.5434 - accuracy: 0.8219 - val_loss: 0.1777 - val_accuracy: 0.8117\n",
            "Epoch 30/50\n",
            "387/387 [==============================] - 66s 170ms/step - loss: 0.5668 - accuracy: 0.8055 - val_loss: 2.5955 - val_accuracy: 0.4611\n",
            "Epoch 31/50\n",
            "387/387 [==============================] - 65s 168ms/step - loss: 0.5212 - accuracy: 0.8250 - val_loss: 0.5819 - val_accuracy: 0.8527\n",
            "Epoch 32/50\n",
            "387/387 [==============================] - 65s 169ms/step - loss: 0.5328 - accuracy: 0.8263 - val_loss: 2.2618 - val_accuracy: 0.6144\n",
            "Epoch 33/50\n",
            "387/387 [==============================] - 66s 170ms/step - loss: 0.5732 - accuracy: 0.8211 - val_loss: 0.7058 - val_accuracy: 0.7604\n",
            "Epoch 34/50\n",
            "387/387 [==============================] - 66s 170ms/step - loss: 0.5168 - accuracy: 0.8301 - val_loss: 0.5302 - val_accuracy: 0.7550\n",
            "Epoch 35/50\n",
            "387/387 [==============================] - 65s 168ms/step - loss: 0.5043 - accuracy: 0.8327 - val_loss: 4.5900 - val_accuracy: 0.3965\n",
            "Epoch 36/50\n",
            "387/387 [==============================] - 66s 170ms/step - loss: 0.5265 - accuracy: 0.8276 - val_loss: 0.1750 - val_accuracy: 0.8654\n",
            "Epoch 37/50\n",
            "387/387 [==============================] - 66s 171ms/step - loss: 0.4834 - accuracy: 0.8418 - val_loss: 0.8784 - val_accuracy: 0.8310\n",
            "Epoch 38/50\n",
            "387/387 [==============================] - 66s 170ms/step - loss: 0.5258 - accuracy: 0.8226 - val_loss: 1.0679 - val_accuracy: 0.5401\n",
            "Epoch 39/50\n",
            "387/387 [==============================] - 66s 172ms/step - loss: 0.5146 - accuracy: 0.8348 - val_loss: 3.5559 - val_accuracy: 0.5655\n",
            "Epoch 40/50\n",
            "387/387 [==============================] - 67s 172ms/step - loss: 0.5086 - accuracy: 0.8361 - val_loss: 1.4431 - val_accuracy: 0.7212\n",
            "Epoch 41/50\n",
            "387/387 [==============================] - 67s 173ms/step - loss: 0.5146 - accuracy: 0.8299 - val_loss: 1.3466 - val_accuracy: 0.5775\n",
            "Epoch 42/50\n",
            "387/387 [==============================] - 67s 173ms/step - loss: 0.4868 - accuracy: 0.8397 - val_loss: 0.4999 - val_accuracy: 0.7592\n",
            "Epoch 43/50\n",
            "387/387 [==============================] - 67s 172ms/step - loss: 0.4753 - accuracy: 0.8437 - val_loss: 0.4363 - val_accuracy: 0.6343\n",
            "Epoch 44/50\n",
            "387/387 [==============================] - 67s 172ms/step - loss: 0.5079 - accuracy: 0.8368 - val_loss: 2.8560 - val_accuracy: 0.4448\n",
            "Epoch 45/50\n",
            "387/387 [==============================] - 66s 170ms/step - loss: 0.4883 - accuracy: 0.8345 - val_loss: 1.5229 - val_accuracy: 0.6113\n",
            "Epoch 46/50\n",
            "387/387 [==============================] - 66s 172ms/step - loss: 0.4854 - accuracy: 0.8433 - val_loss: 1.4841 - val_accuracy: 0.7755\n"
          ],
          "name": "stdout"
        }
      ]
    },
    {
      "cell_type": "markdown",
      "metadata": {
        "id": "cRevTQtxN4yH",
        "colab_type": "text"
      },
      "source": [
        "#### **Save Model weights**"
      ]
    },
    {
      "cell_type": "code",
      "metadata": {
        "id": "hFWzksRZ8Ks2",
        "colab_type": "code",
        "colab": {}
      },
      "source": [
        "model.save_weights(\"model.h5\")"
      ],
      "execution_count": 0,
      "outputs": []
    },
    {
      "cell_type": "markdown",
      "metadata": {
        "id": "2LYftLFtOOGV",
        "colab_type": "text"
      },
      "source": [
        "## **Visualizing Training**"
      ]
    },
    {
      "cell_type": "code",
      "metadata": {
        "id": "aTJDtAf-8KqR",
        "colab_type": "code",
        "colab": {}
      },
      "source": [
        "acc=history.history['accuracy']\n",
        "val_acc=history.history['val_accuracy']\n",
        "loss=history.history['loss']\n",
        "val_loss=history.history['val_loss']"
      ],
      "execution_count": 0,
      "outputs": []
    },
    {
      "cell_type": "code",
      "metadata": {
        "id": "DU2hQo6G8KnX",
        "colab_type": "code",
        "colab": {}
      },
      "source": [
        "epochs=range(len(acc))"
      ],
      "execution_count": 0,
      "outputs": []
    },
    {
      "cell_type": "code",
      "metadata": {
        "id": "lHcxTXM08KkP",
        "colab_type": "code",
        "colab": {
          "base_uri": "https://localhost:8080/",
          "height": 577
        },
        "outputId": "403ab40d-245d-42ab-8850-18ab247b9e5e"
      },
      "source": [
        "#------------------------------------------------\n",
        "# Plot training and validation accuracy per epoch\n",
        "#------------------------------------------------\n",
        "plt.plot(epochs, acc, 'b', label=\"Training Accuracy\")\n",
        "plt.plot(epochs, val_acc, 'r', label=\"Validation Accuracy\")\n",
        "plt.title('Training and validation accuracy')\n",
        "legend = plt.legend(loc='best', shadow=True)\n",
        "plt.tight_layout()\n",
        "plt.show()\n",
        "\n",
        "#------------------------------------------------\n",
        "# Plot training and validation loss per epoch\n",
        "#------------------------------------------------\n",
        "\n",
        "plt.plot(epochs, loss, 'b', label=\"Training Loss\")\n",
        "plt.plot(epochs, val_loss, 'r', label=\"Validation Loss\")\n",
        "plt.title('Training and validation loss')\n",
        "\n",
        "legend = plt.legend(loc='best', shadow=True)\n",
        "plt.tight_layout()\n",
        "plt.show()"
      ],
      "execution_count": 38,
      "outputs": [
        {
          "output_type": "display_data",
          "data": {
            "image/png": "[encoded data removed]",
            "text/plain": [
              "<Figure size 432x288 with 1 Axes>"
            ]
          },
          "metadata": {
            "tags": [],
            "needs_background": "light"
          }
        },
        {
          "output_type": "display_data",
          "data": {
            "image/png": "[encoded data removed]",
            "text/plain": [
              "<Figure size 432x288 with 1 Axes>"
            ]
          },
          "metadata": {
            "tags": [],
            "needs_background": "light"
          }
        }
      ]
    },
    {
      "cell_type": "code",
      "metadata": {
        "id": "8dftDQVmPCTW",
        "colab_type": "code",
        "colab": {}
      },
      "source": [
        ""
      ],
      "execution_count": 0,
      "outputs": []
    }
  ]
}